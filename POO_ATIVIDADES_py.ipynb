{
  "nbformat": 4,
  "nbformat_minor": 0,
  "metadata": {
    "colab": {
      "provenance": [],
      "toc_visible": true
    },
    "kernelspec": {
      "name": "python3",
      "display_name": "Python 3"
    },
    "language_info": {
      "name": "python"
    }
  },
  "cells": [
    {
      "cell_type": "code",
      "execution_count": 45,
      "metadata": {
        "colab": {
          "base_uri": "https://localhost:8080/"
        },
        "id": "yRfrGfc868MI",
        "outputId": "f2186f35-97bf-468c-8346-721a88b38ceb"
      },
      "outputs": [
        {
          "output_type": "stream",
          "name": "stdout",
          "text": [
            "o circulo tem um raio de 5m²,\n",
            "uma area de 78.539816m² \n",
            "e o perimetro de 31.415927m²\n"
          ]
        }
      ],
      "source": [
        "#Crie uma classe chamada “Círculo” que possua um atributo para armazenar o raio\n",
        "# e métodos para calcular a área e o perímetro do círculo.\n",
        "import math\n",
        "class Circulo:\n",
        "    def __init__(self,raio):\n",
        "        self.raio = raio\n",
        "    def calcular_area(self):\n",
        "        area = math.pi * self.raio ** 2\n",
        "        return area\n",
        "    def calcular_perimetro(self):\n",
        "        perimetro = 2 * math.pi * self.raio\n",
        "        return perimetro\n",
        "raio_circulo = 5\n",
        "circulo = Circulo(raio_circulo)\n",
        "\n",
        "area_circulo = circulo.calcular_area()\n",
        "perimetro_circulo = circulo.calcular_perimetro()\n",
        "\n",
        "print(f'''o circulo tem um raio de {raio_circulo}m²,\n",
        "uma area de {area_circulo:f}m²\n",
        "e o perimetro de {perimetro_circulo:f}m²''')\n"
      ]
    },
    {
      "cell_type": "code",
      "source": [
        "#Crie uma classe chamada “Retângulo” que possua atributos para armazenar a largura e a altura.\n",
        "#Implemente métodos para calcular a área e o perímetro do retângulo.\n",
        "class Retangulo:\n",
        "  def __init__(self,base,altura):\n",
        "    self.base = base\n",
        "    self.altura = altura\n",
        "  def area(self):\n",
        "    return self.base * self.altura\n",
        "  def perimetro(self):\n",
        "    return 2 * (self.base + self.altura)\n",
        "r = Retangulo(10,20)\n",
        "print('a area do retangulo é de',r.area())\n",
        "print('e o perimetro é ',r.perimetro())\n"
      ],
      "metadata": {
        "colab": {
          "base_uri": "https://localhost:8080/"
        },
        "id": "dgJYSu_-JXlX",
        "outputId": "62700182-024d-4459-ada4-9a880b43f6e7"
      },
      "execution_count": 39,
      "outputs": [
        {
          "output_type": "stream",
          "name": "stdout",
          "text": [
            "a area do retangulo é de 200\n",
            "e o perimetro é : 60\n"
          ]
        }
      ]
    },
    {
      "cell_type": "code",
      "source": [
        "#Implemente uma classe chamada “Aluno” que possua atributos para armazenar o nome, a matrícula e as notas de um aluno.\n",
        "# Adicione métodos para calcular a média das notas e verificar a situação do aluno (aprovado ou reprovado).\n",
        "import numpy\n",
        "class Aluno:\n",
        "  def __init__(self,matricula,pontos_minimos):\n",
        "    self.matricula = matricula\n",
        "    self.pontos_minimos = pontos_minimos\n",
        "  def media_nota(self,nota):\n",
        "    self.nota = nota\n",
        "    self.soma = numpy.sum(self.nota)\n",
        "    self.media = self.soma / len(self.nota)\n",
        "  def aprovacao(self):\n",
        "    if self.media >= int(self.pontos_minimos):\n",
        "          print(f'''o aluno da matrícula:{self.matricula} obteve a media total de {self.soma}.\n",
        "          APROVADO!!!''')\n",
        "    else:\n",
        "          print(f'''o aluno da matrícula:{self.matricula} obteve a media total de {self.media}\n",
        "          REPROVADO...''')\n",
        "\n",
        "aluno_situacao = Aluno(matricula='394621',pontos_minimos='15')\n",
        "aluno_situacao.media_nota(nota=(15,14,16,13))\n",
        "aluno_situacao.aprovacao()\n",
        "\n",
        "\n",
        "\n",
        "\n",
        "\n",
        "\n",
        "\n",
        ""
      ],
      "metadata": {
        "colab": {
          "base_uri": "https://localhost:8080/"
        },
        "id": "oOUGv5tKz5_W",
        "outputId": "61da715f-43d3-4a10-b788-6815de3856fa"
      },
      "execution_count": 14,
      "outputs": [
        {
          "output_type": "stream",
          "name": "stdout",
          "text": [
            "o aluno da matrícula:394621 obteve a media total de 14.5\n",
            "          REPROVADO...\n"
          ]
        }
      ]
    },
    {
      "cell_type": "code",
      "source": [],
      "metadata": {
        "id": "11fvj1OxCTd-"
      },
      "execution_count": null,
      "outputs": []
    },
    {
      "cell_type": "code",
      "source": [
        "#Implemente uma classe chamada “ContaBancária”\n",
        "#que possua atributos para armazenar o número da conta, nome do titular e saldo.\n",
        "# Adicione métodos para realizar depósitos e saques.\n",
        "\n",
        "class ContaBancaria:\n",
        "    def __init__(self, numero_conta, titular, saldo=0.0):\n",
        "        self.numero_conta = numero_conta\n",
        "        self.titular = titular\n",
        "        self.saldo = saldo\n",
        "\n",
        "    def depositar(self, valor):\n",
        "        if valor > 0:\n",
        "            self.saldo += valor\n",
        "            print(f'Depósito de R${valor} realizado. Novo saldo: R${self.saldo}')\n",
        "        else:\n",
        "            print('O valor do depósito deve ser maior que zero.')\n",
        "\n",
        "    def sacar(self, valor):\n",
        "        if valor > 0 and valor <= self.saldo:\n",
        "            self.saldo -= valor\n",
        "            print(f'Saque de R${valor} realizado. Novo saldo: R${self.saldo}')\n",
        "        else:\n",
        "            print('Valor inválido ou saldo insuficiente.')\n",
        "\n",
        "    def consultar_saldo(self):\n",
        "        print(f'Saldo atual da conta de {self.titular}: R${self.saldo}')\n",
        "\n",
        "\n",
        "# Exemplo de uso:\n",
        "conta1 = ContaBancaria(numero_conta='31122003', titular='Samuel')\n",
        "conta1.depositar(1000.0)\n",
        "conta1.sacar(500.0)\n",
        "conta1.consultar_saldo()"
      ],
      "metadata": {
        "colab": {
          "base_uri": "https://localhost:8080/"
        },
        "id": "OMth8H-wAAQ2",
        "outputId": "0d6d0a65-ce8e-4481-e81a-7a0ff0051a46"
      },
      "execution_count": 46,
      "outputs": [
        {
          "output_type": "stream",
          "name": "stdout",
          "text": [
            "Depósito de R$1000.0 realizado. Novo saldo: R$1000.0\n",
            "Saque de R$500.0 realizado. Novo saldo: R$500.0\n",
            "Saldo atual da conta de Samuel: R$500.0\n"
          ]
        }
      ]
    }
  ]
}