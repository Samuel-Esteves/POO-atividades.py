{
  "nbformat": 4,
  "nbformat_minor": 0,
  "metadata": {
    "colab": {
      "provenance": [],
      "authorship_tag": "ABX9TyNXQ7o+maMHZOV0x9MJtxuH",
      "include_colab_link": true
    },
    "kernelspec": {
      "name": "python3",
      "display_name": "Python 3"
    },
    "language_info": {
      "name": "python"
    }
  },
  "cells": [
    {
      "cell_type": "markdown",
      "metadata": {
        "id": "view-in-github",
        "colab_type": "text"
      },
      "source": [
        "<a href=\"https://colab.research.google.com/github/Samuel-Esteves/POO-atividades.py/blob/main/Untitled.ipynb\" target=\"_parent\"><img src=\"https://colab.research.google.com/assets/colab-badge.svg\" alt=\"Open In Colab\"/></a>"
      ]
    },
    {
      "cell_type": "code",
      "execution_count": 16,
      "metadata": {
        "colab": {
          "base_uri": "https://localhost:8080/"
        },
        "id": "ffHshl3ZubTG",
        "outputId": "235146a5-c419-4e04-867d-c5484f45b23f"
      },
      "outputs": [
        {
          "output_type": "stream",
          "name": "stdout",
          "text": [
            "temos o valor total do produto feijao avaliado em R$1501.00\n",
            "produto disponível :) \n",
            "temos 190.0 em estoque\n"
          ]
        }
      ],
      "source": [
        "#Implemente uma classe chamada “Produto”\n",
        "#que possua atributos para armazenar o nome, o preço e a quantidade em estoque.\n",
        "#Adicione métodos para calcular o valor total em estoque e verificar se o produto está disponível.\n",
        "\n",
        "class Produto:\n",
        "  def __init__(self,nome,preco,quantidade):\n",
        "    self.nome = nome\n",
        "    self.preco = preco\n",
        "    self.quantidade = quantidade\n",
        "  def valor_total(self):\n",
        "    return self.preco * self.quantidade\n",
        "\n",
        "  def produto_disponivel(self):\n",
        "      if self.quantidade == 0:\n",
        "        print('''produto indisponível :(\n",
        "não temos este produto em estoque no momento''')\n",
        "      else:\n",
        "         print(f'''produto disponível :)\n",
        "temos {self.quantidade} em estoque''')\n",
        "\n",
        "produto = Produto(nome='feijao',preco=7.90,quantidade=190.0)\n",
        "print(f'temos o valor total do produto {produto.nome} avaliado em R${produto.valor_total():.2f}')\n",
        "produto.produto_disponivel()\n"
      ]
    }
  ]
}